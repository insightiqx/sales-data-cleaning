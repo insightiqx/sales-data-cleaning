# --- Librerías ---
import pandas as pd
import numpy as np
import matplotlib.pyplot as plt
from pathlib import Path

# --- Rutas ---
BASE_DIR = Path().resolve()
if BASE_DIR.name.lower() == "notebooks":
    BASE_DIR = BASE_DIR.parent

DATA_DIR = BASE_DIR / "data"
RESULTS_DIR = BASE_DIR / "results"
CLEAN = DATA_DIR / "clean_superstore.csv"

# --- Cargar dataset limpio ---
df = pd.read_csv(CLEAN, encoding="utf-8")

print(f"Rows: {len(df):,}")
df.head()


# Convertir fechas
df["Order Date"] = pd.to_datetime(df["Order Date"], errors="coerce")

# Agregar por mes
df["YearMonth"] = df["Order Date"].dt.to_period("M")
monthly_sales = df.groupby("YearMonth")["Sales"].sum().to_timestamp()

monthly_sales.plot(figsize=(10,4), title="Monthly Sales History")
plt.ylabel("Sales ($)")
plt.tight_layout()
plt.show()

monthly_sales.tail()


pip install pmdarima



